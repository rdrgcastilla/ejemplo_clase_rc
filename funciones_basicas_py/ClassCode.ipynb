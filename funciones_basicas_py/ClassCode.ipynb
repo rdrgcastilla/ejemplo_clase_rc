{
  "nbformat": 4,
  "nbformat_minor": 0,
  "metadata": {
    "colab": {
      "provenance": [],
      "include_colab_link": true
    },
    "kernelspec": {
      "name": "python3",
      "display_name": "Python 3"
    },
    "language_info": {
      "name": "python"
    }
  },
  "cells": [
    {
      "cell_type": "markdown",
      "metadata": {
        "id": "view-in-github",
        "colab_type": "text"
      },
      "source": [
        "<a href=\"https://colab.research.google.com/github/rdrgcastilla/ejemplo_clase_rc/blob/main/funciones_basicas_py/ClassCode.ipynb\" target=\"_parent\"><img src=\"https://colab.research.google.com/assets/colab-badge.svg\" alt=\"Open In Colab\"/></a>"
      ]
    },
    {
      "cell_type": "markdown",
      "source": [
        "## Funciones Básicas"
      ],
      "metadata": {
        "id": "lvBk3CuQvZd3"
      }
    },
    {
      "cell_type": "code",
      "execution_count": null,
      "metadata": {
        "colab": {
          "base_uri": "https://localhost:8080/"
        },
        "id": "Rjf8xmcdvNc5",
        "outputId": "81663aab-60d7-445a-dcb0-42fc1fd8d404"
      },
      "outputs": [
        {
          "output_type": "execute_result",
          "data": {
            "text/plain": [
              "307"
            ]
          },
          "metadata": {},
          "execution_count": 1
        }
      ],
      "source": [
        "5+5*60^2"
      ]
    },
    {
      "cell_type": "markdown",
      "source": [
        "En algunos casos necesitaremos importar algunas librerías que complementarán los análisis ó cálculos que realicemos."
      ],
      "metadata": {
        "id": "hiNDYkc2vuD1"
      }
    },
    {
      "cell_type": "code",
      "source": [
        "log(10)"
      ],
      "metadata": {
        "id": "eFUA5MaVvmhP"
      },
      "execution_count": null,
      "outputs": []
    },
    {
      "cell_type": "code",
      "source": [
        "from math import log"
      ],
      "metadata": {
        "id": "IV1ylzi_vtYu"
      },
      "execution_count": null,
      "outputs": []
    },
    {
      "cell_type": "code",
      "source": [
        "log(10)"
      ],
      "metadata": {
        "colab": {
          "base_uri": "https://localhost:8080/"
        },
        "id": "KQL2wkXrwMgG",
        "outputId": "6515db2e-1ad4-4427-8fc5-67120c3f429f"
      },
      "execution_count": null,
      "outputs": [
        {
          "output_type": "execute_result",
          "data": {
            "text/plain": [
              "2.302585092994046"
            ]
          },
          "metadata": {},
          "execution_count": 9
        }
      ]
    },
    {
      "cell_type": "markdown",
      "source": [
        "La función print será muy útil para imprimir resultados de los procesos que veremos"
      ],
      "metadata": {
        "id": "ZBx_X7xqyXuw"
      }
    },
    {
      "cell_type": "code",
      "source": [
        "print(\"Hola amigos de dmc, ya estoy en python!\")"
      ],
      "metadata": {
        "colab": {
          "base_uri": "https://localhost:8080/"
        },
        "id": "_dEHqzAjxwO1",
        "outputId": "3bb7c371-353e-4478-f4e9-a88fa968ea86"
      },
      "execution_count": null,
      "outputs": [
        {
          "output_type": "stream",
          "name": "stdout",
          "text": [
            "Hola amigos de dmc, ya estoy en python!\n"
          ]
        }
      ]
    },
    {
      "cell_type": "code",
      "source": [
        "import time"
      ],
      "metadata": {
        "id": "Dv2l3r8tygB-"
      },
      "execution_count": null,
      "outputs": []
    },
    {
      "cell_type": "code",
      "source": [
        "time.time()"
      ],
      "metadata": {
        "colab": {
          "base_uri": "https://localhost:8080/"
        },
        "id": "Gk0I3YqpymYV",
        "outputId": "5f22c073-c599-487f-e2bd-58a670a5bdda"
      },
      "execution_count": null,
      "outputs": [
        {
          "output_type": "execute_result",
          "data": {
            "text/plain": [
              "1677114134.6833987"
            ]
          },
          "metadata": {},
          "execution_count": 12
        }
      ]
    },
    {
      "cell_type": "code",
      "source": [
        "time.time()"
      ],
      "metadata": {
        "colab": {
          "base_uri": "https://localhost:8080/"
        },
        "id": "g4Mqi7Qey2WB",
        "outputId": "05ebdec3-7548-4078-c35e-3a3d456a0c40"
      },
      "execution_count": null,
      "outputs": [
        {
          "output_type": "execute_result",
          "data": {
            "text/plain": [
              "1677114178.750511"
            ]
          },
          "metadata": {},
          "execution_count": 13
        }
      ]
    },
    {
      "cell_type": "code",
      "source": [
        "1677114178.750511 - 1677114134.6833987"
      ],
      "metadata": {
        "colab": {
          "base_uri": "https://localhost:8080/"
        },
        "id": "c6cLCnqRy5oP",
        "outputId": "be76220e-d68a-4ae8-ccfb-77b7eb75dd99"
      },
      "execution_count": null,
      "outputs": [
        {
          "output_type": "execute_result",
          "data": {
            "text/plain": [
              "44.06711220741272"
            ]
          },
          "metadata": {},
          "execution_count": 14
        }
      ]
    },
    {
      "cell_type": "code",
      "source": [
        "print(1677114178.750511 - 1677114134.6833987)"
      ],
      "metadata": {
        "colab": {
          "base_uri": "https://localhost:8080/"
        },
        "id": "0y15X9dbzW_j",
        "outputId": "107082ad-0975-4e52-ec3d-f2b795873189"
      },
      "execution_count": null,
      "outputs": [
        {
          "output_type": "stream",
          "name": "stdout",
          "text": [
            "44.06711220741272\n"
          ]
        }
      ]
    },
    {
      "cell_type": "markdown",
      "source": [
        "**python es un lenguaje orientado a objetos**"
      ],
      "metadata": {
        "id": "P8Wa8o1zzWVR"
      }
    },
    {
      "cell_type": "code",
      "source": [
        "a = 4"
      ],
      "metadata": {
        "id": "ztsYdlY9zmfQ"
      },
      "execution_count": null,
      "outputs": []
    },
    {
      "cell_type": "code",
      "source": [
        "print(a)"
      ],
      "metadata": {
        "colab": {
          "base_uri": "https://localhost:8080/"
        },
        "id": "Wa2q7QxPzpZp",
        "outputId": "2257737d-f50f-4dd8-9b09-f8d5af8a96d4"
      },
      "execution_count": null,
      "outputs": [
        {
          "output_type": "stream",
          "name": "stdout",
          "text": [
            "4\n"
          ]
        }
      ]
    },
    {
      "cell_type": "code",
      "source": [
        "a = 'esto es una línea de texto'\n",
        "print(a)"
      ],
      "metadata": {
        "colab": {
          "base_uri": "https://localhost:8080/"
        },
        "id": "fMhrLAIizzmr",
        "outputId": "f7c4976c-7626-4415-f935-fe6acc4a0aa4"
      },
      "execution_count": null,
      "outputs": [
        {
          "output_type": "stream",
          "name": "stdout",
          "text": [
            "esto es una línea de texto\n"
          ]
        }
      ]
    },
    {
      "cell_type": "code",
      "source": [
        "time_elapsed = 1677114178.750511 - 1677114134.6833987\n",
        "print(time_elapsed)"
      ],
      "metadata": {
        "colab": {
          "base_uri": "https://localhost:8080/"
        },
        "id": "T8Sfl6LC0AbQ",
        "outputId": "009f4e47-2b3e-4de7-b0e1-6de4f150b214"
      },
      "execution_count": null,
      "outputs": [
        {
          "output_type": "stream",
          "name": "stdout",
          "text": [
            "44.06711220741272\n"
          ]
        }
      ]
    },
    {
      "cell_type": "code",
      "source": [
        "print(\"El tiempo de demora del proceso es de 1677114178.750511 - 1677114134.6833987 segundos\")"
      ],
      "metadata": {
        "colab": {
          "base_uri": "https://localhost:8080/"
        },
        "id": "V6_zj8TC0ZZw",
        "outputId": "46907bf8-2c33-47c3-ba52-a07d90715be9"
      },
      "execution_count": null,
      "outputs": [
        {
          "output_type": "stream",
          "name": "stdout",
          "text": [
            "El tiempo de demora del proceso es de 1677114178.750511 - 1677114134.6833987 segundos\n"
          ]
        }
      ]
    },
    {
      "cell_type": "code",
      "source": [
        "start = time.time()\n",
        "print('proceso')\n",
        "time_elapsed = time.time() - start\n",
        "\n",
        "print(f\"El tiempo de demora del proceso es de {time_elapsed} segundos\")"
      ],
      "metadata": {
        "colab": {
          "base_uri": "https://localhost:8080/"
        },
        "id": "BZE39n9_1PKl",
        "outputId": "2f8d0322-9056-472f-b2b9-7232a9cf652e"
      },
      "execution_count": null,
      "outputs": [
        {
          "output_type": "stream",
          "name": "stdout",
          "text": [
            "proceso\n",
            "El tiempo de demora del proceso es de 0.0011310577392578125 segundos\n"
          ]
        }
      ]
    },
    {
      "cell_type": "code",
      "source": [],
      "metadata": {
        "id": "RWrmvagC31Bq"
      },
      "execution_count": null,
      "outputs": []
    }
  ]
}